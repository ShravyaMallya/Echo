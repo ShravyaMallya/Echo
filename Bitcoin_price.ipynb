{
 "cells": [
  {
   "cell_type": "code",
   "execution_count": null,
   "metadata": {},
   "outputs": [],
   "source": [
    "\n",
    "#Importing all necessary libraries\n",
    "\n",
    "import pandas as pd\n",
    "import seaborn as sns\n",
    "import matplotlib as plt\n",
    "import statsmodels.formula.api as smf\n",
    "import sklearn.metrics as sm\n",
    "from sklearn.model_selection import train_test_split"
   ]
  },
  {
   "cell_type": "code",
   "execution_count": null,
   "metadata": {},
   "outputs": [],
   "source": [
    "#Reading the data\n",
    "data = pd.read_csv(\"https://raw.githubusercontent.com/WidhyaOrg/datasets/master/bitcoin_dataset.csv\")\n",
    "\n",
    "#Reading the top 5 rows of the Dataset\n",
    "data.head()"
   ]
  },
  {
   "cell_type": "code",
   "execution_count": null,
   "metadata": {},
   "outputs": [],
   "source": [
    "# Finding out 1024th value of btc market price\n",
    "data['btc_market_price'][1023]"
   ]
  },
  {
   "cell_type": "code",
   "execution_count": null,
   "metadata": {},
   "outputs": [],
   "source": [
    "g = sns.jointplot(\"btc_difficulty\", \"btc_market_price\", data=data, xlim=(0, 2.6E+12), ylim = (0,20000), color = 'b', height=7)"
   ]
  },
  {
   "cell_type": "code",
   "execution_count": null,
   "metadata": {},
   "outputs": [],
   "source": [
    "h = sns.stripplot(x= \"btc_n_orphaned_blocks\", y= \"btc_market_price\", data=data, jitter= True)"
   ]
  },
  {
   "cell_type": "code",
   "execution_count": null,
   "metadata": {},
   "outputs": [],
   "source": [
    "i = sns.jointplot(\"btc_hash_rate\", \"btc_market_price\", data=data, xlim=(0, 30000000), ylim = (0,20000), color = 'r', height=7)"
   ]
  },
  {
   "cell_type": "code",
   "execution_count": null,
   "metadata": {},
   "outputs": [],
   "source": [
    "j= sns.jointplot(\"btc_n_transactions\", \"btc_market_price\", data=data, xlim=(0, 400000), ylim = (0,20000), color = 'g', height=7)"
   ]
  },
  {
   "cell_type": "code",
   "execution_count": null,
   "metadata": {},
   "outputs": [],
   "source": [
    "k= sns.jointplot(\"btc_market_cap\", \"btc_market_price\", data=data, xlim=(0, 450000000000), ylim = (0,20000), color = 'y', height=7)"
   ]
  },
  {
   "cell_type": "code",
   "execution_count": null,
   "metadata": {},
   "outputs": [],
   "source": [
    "j= sns.jointplot(\"btc_trade_volume\", \"btc_market_price\", data=data, xlim=(0, 1000000000), ylim = (0,20000), color = 'b', height=7)"
   ]
  },
  {
   "cell_type": "code",
   "execution_count": null,
   "metadata": {},
   "outputs": [],
   "source": [
    "#Checking if there are null values present in the columns\n",
    "a = data['btc_trade_volume'].isnull().values.any()\n",
    "b = data['btc_transaction_fees'].isnull().values.any()\n",
    "c = data['btc_difficulty'].isnull().values.any()\n",
    "print(a)\n",
    "print(b)\n",
    "print(c)"
   ]
  },
  {
   "cell_type": "code",
   "execution_count": null,
   "metadata": {},
   "outputs": [],
   "source": [
    "#Converting the null values into median of the particular column\n",
    "data['btc_trade_volume'].fillna(data['btc_trade_volume'].median(), inplace= True)\n",
    "data['btc_transaction_fees'].fillna(data['btc_transaction_fees'].median(), inplace= True)\n",
    "data['btc_difficulty'].fillna(data['btc_difficulty'].median(), inplace= True)"
   ]
  },
  {
   "cell_type": "code",
   "execution_count": null,
   "metadata": {},
   "outputs": [],
   "source": [
    "#Checking if there are still any null values present in the columns\n",
    "a = data['btc_trade_volume'].isnull().values.any()\n",
    "b = data['btc_transaction_fees'].isnull().values.any()\n",
    "c = data['btc_difficulty'].isnull().values.any()\n",
    "print(a)\n",
    "print(b)\n",
    "print(c)"
   ]
  },
  {
   "cell_type": "code",
   "execution_count": null,
   "metadata": {},
   "outputs": [],
   "source": [
    "#Fitting the model\n",
    "model = smf.ols(formula='btc_market_price ~ btc_market_cap + btc_n_transactions + btc_miners_revenue + btc_cost_per_transaction + btc_difficulty + btc_hash_rate + btc_cost_per_transaction_percent', data=data).fit()"
   ]
  },
  {
   "cell_type": "code",
   "execution_count": null,
   "metadata": {},
   "outputs": [],
   "source": [
    "#Finding out the Mean Squared Error of the model data\n",
    "y = model.predict(data[['btc_market_cap','btc_cost_per_transaction_percent','btc_n_transactions','btc_miners_revenue','btc_cost_per_transaction','btc_difficulty','btc_hash_rate']])\n",
    "\n",
    "print(\"MSE:\", sm.mean_squared_error(y, data['btc_market_price'].values))"
   ]
  }
 ],
 "metadata": {
  "kernelspec": {
   "display_name": "Python 3",
   "language": "python",
   "name": "python3"
  },
  "language_info": {
   "codemirror_mode": {
    "name": "ipython",
    "version": 3
   },
   "file_extension": ".py",
   "mimetype": "text/x-python",
   "name": "python",
   "nbconvert_exporter": "python",
   "pygments_lexer": "ipython3",
   "version": "3.8.3"
  }
 },
 "nbformat": 4,
 "nbformat_minor": 4
}
